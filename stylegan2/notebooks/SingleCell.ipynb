{
 "cells": [
  {
   "cell_type": "markdown",
   "id": "07267870",
   "metadata": {},
   "source": [
    "# Single-cell experiment"
   ]
  },
  {
   "cell_type": "code",
   "execution_count": null,
   "id": "b9a3a103",
   "metadata": {},
   "outputs": [],
   "source": [
    "import torch\n",
    "import torch.nn as nn\n",
    "import torchvision\n",
    "import torch.distributions as TD\n",
    "\n",
    "import numpy as np\n",
    "import matplotlib.pyplot as plt\n",
    "%matplotlib inline \n",
    "\n",
    "from tqdm import tqdm\n",
    "import wandb\n",
    "import os\n",
    "import sys \n",
    "sys.path.append(\"../EnergyGuidedBarycenters/\")\n",
    "from src.utils import Config, Distrib2Sampler, plot_barycenter_map_in_data_space\n",
    "from src.eot_utils import computePotGrad, evaluating\n",
    "from src.eot import sample_langevin_batch\n",
    "from src.dgm_utils.statsmanager import StatsManager, StatsManagerDrawScheduler\n",
    "from src.cost import cond_score, cost_l2_grad_y\n",
    "from src.distributions import DatasetSampler\n",
    "from src.resnet2 import  ResNet_D, weights_init_D\n",
    "\n",
    "from typing import Callable, Tuple, Union\n",
    "from sklearn.metrics.pairwise import pairwise_distances"
   ]
  },
  {
   "cell_type": "markdown",
   "id": "8172f5a7",
   "metadata": {},
   "source": [
    "## 1. Setup"
   ]
  },
  {
   "cell_type": "code",
   "execution_count": null,
   "id": "2895fffb",
   "metadata": {
    "tags": [
     "parameters"
    ]
   },
   "outputs": [],
   "source": [
    "SETUP = 1\n",
    "DIM = 1000\n",
    "EPS = 0.01\n",
    "RSI = 4"
   ]
  },
  {
   "cell_type": "code",
   "execution_count": null,
   "id": "fc1bd7c5",
   "metadata": {},
   "outputs": [],
   "source": [
    "setup2vals = {\n",
    "    0: (2, 4, 3),\n",
    "    1: (3, 7, 4)\n",
    "}\n",
    "\n",
    "alphas = {\n",
    "    0: [0.5,0.5],\n",
    "    1: [0.75,0.25]\n",
    "}\n",
    "\n",
    "dim2lr = {\n",
    "    50: 5e-4,\n",
    "    100: 5e-4,\n",
    "    1000: 5e-4\n",
    "}\n",
    "\n",
    "dim2epochs = {\n",
    "    50: 50,\n",
    "    100: 50,\n",
    "    1000: 50\n",
    "}\n",
    "\n",
    "rsi2seed = {\n",
    "    0: 42,\n",
    "    1: 43,\n",
    "    2: 44,\n",
    "    3: 45,\n",
    "    4: 46\n",
    "}\n",
    "\n",
    "dim2hiddens = {\n",
    "    50: [256, 256, 256],\n",
    "    100: [256, 256, 256],\n",
    "    1000: [2048, 1024, 512]\n",
    "}\n"
   ]
  },
  {
   "cell_type": "markdown",
   "id": "83353177",
   "metadata": {},
   "source": [
    "## 2. Create Config"
   ]
  },
  {
   "cell_type": "code",
   "execution_count": null,
   "id": "03505db3",
   "metadata": {},
   "outputs": [],
   "source": [
    "CONFIG = Config()\n",
    "CONFIG.DIM = DIM\n",
    "CONFIG.EPS = EPS\n",
    "CONFIG.SETUP = SETUP\n",
    "CONFIG.RSI = RSI\n",
    "CONFIG.SEED = rsi2seed[RSI]\n",
    "CONFIG.DEVICE = 'cuda'\n",
    "\n",
    "CONFIG.CLIP_GRADS_NORM = False\n",
    "CONFIG.ALPHAS_BARYCENTER = alphas[SETUP] # loss += alpha * (pos_out ** 2 + neg_out ** 2)\n",
    "CONFIG.HREG = CONFIG.EPS\n",
    "CONFIG.BATCH_SIZE = 1024\n",
    "CONFIG.EPOCHS = dim2epochs[CONFIG.DIM]\n",
    "CONFIG.LR = dim2lr[CONFIG.DIM]\n",
    "CONFIG.BASIC_NOISE_VAR = 2.0\n",
    "CONFIG.BETAS = (0.2, 0.99)\n",
    " \n",
    "\n",
    "CONFIG.LANGEVIN_THRESH = None\n",
    "CONFIG.LANGEVIN_SAMPLING_NOISE = 0.05\n",
    "CONFIG.ENERGY_SAMPLING_ITERATIONS = 1000\n",
    "CONFIG.LANGEVIN_DECAY = 1.0\n",
    "CONFIG.LANGEVIN_SCORE_COEFFICIENT = 1.0\n",
    "CONFIG.LANGEVIN_COST_COEFFICIENT = CONFIG.LANGEVIN_SAMPLING_NOISE ** 2\n",
    "CONFIG.ENERGY_SAMPLING_STEP = 1.0\n",
    "CONFIG.SPECTRAL_NORM_ITERS = 0\n",
    "CONFIG.REFERENCE_DATA_NOISE_SIGMA = 0.00\n",
    "CONFIG.P_SAMPLE_BUFFER_REPLAY = 0.95\n",
    "CONFIG.ENERGY_SAMPLING_NO_PROJECT_DATA = True\n",
    " \n",
    "DEVICE = CONFIG.DEVICE\n",
    "DIM = CONFIG.DIM"
   ]
  },
  {
   "cell_type": "markdown",
   "id": "a5fc0fc0",
   "metadata": {},
   "source": [
    "## 3. Data preprocessing"
   ]
  },
  {
   "cell_type": "code",
   "execution_count": null,
   "id": "84dfa8dc",
   "metadata": {},
   "outputs": [],
   "source": [
    "class Sampler:\n",
    "    def __init__(\n",
    "        self, device='cuda',\n",
    "    ):\n",
    "        self.device = device\n",
    "    \n",
    "    def sample(self, bs):\n",
    "        pass\n",
    "    \n",
    "\n",
    "class TensorSampler(Sampler):\n",
    "    def __init__(self, tensor, device='cuda'):\n",
    "        super(TensorSampler, self).__init__(device)\n",
    "        self.tensor = torch.clone(tensor).to(device)\n",
    "        \n",
    "    def sample(self, bs):\n",
    "        assert bs <= self.tensor.shape[0]\n",
    "        \n",
    "        ind = torch.tensor(np.random.choice(np.arange(self.tensor.shape[0]), size=bs, replace=False), device=self.device)\n",
    "        return torch.clone(self.tensor[ind]).detach().to(self.device)"
   ]
  },
  {
   "cell_type": "code",
   "execution_count": null,
   "id": "0fe33a5a",
   "metadata": {},
   "outputs": [],
   "source": [
    "DAY_START, DAY_END, DAY_EVAL = setup2vals[CONFIG.SETUP]\n",
    "DATA_DIR = '../EnergyGuidedBarycenters/data_sc/'\n",
    "data = {}\n",
    "for day in [2, 3, 4, 7]:\n",
    "    data[day] = np.load(os.path.join(DATA_DIR, f\"full_cite_pcas_{DIM}_day_{day}.npy\"))"
   ]
  },
  {
   "cell_type": "code",
   "execution_count": null,
   "id": "491082ab",
   "metadata": {},
   "outputs": [],
   "source": [
    "eval_data = data[DAY_EVAL]\n",
    "start_data = data[DAY_START]\n",
    "end_data = data[DAY_END]\n",
    "\n",
    "constant_scale = np.concatenate([start_data, end_data, eval_data]).std(axis=0).mean()\n",
    "\n",
    "eval_data_scaled = eval_data/constant_scale\n",
    "start_data_scaled = start_data/constant_scale\n",
    "end_data_scaled = end_data/constant_scale\n",
    "\n",
    "eval_data = torch.tensor(eval_data).float()\n",
    "start_data = torch.tensor(start_data_scaled).float()\n",
    "end_data = torch.tensor(end_data_scaled).float()"
   ]
  },
  {
   "cell_type": "code",
   "execution_count": null,
   "id": "e6656386",
   "metadata": {},
   "outputs": [],
   "source": [
    "X_sampler = TensorSampler(torch.tensor(start_data).float(), device=DEVICE)\n",
    "Y_sampler = TensorSampler(torch.tensor(end_data).float(), device=DEVICE)"
   ]
  },
  {
   "cell_type": "code",
   "execution_count": null,
   "id": "edb11734",
   "metadata": {},
   "outputs": [],
   "source": [
    "data_samplers = []\n",
    "data_samplers.append(X_sampler)\n",
    "data_samplers.append(Y_sampler)"
   ]
  },
  {
   "cell_type": "markdown",
   "id": "3f856f28",
   "metadata": {},
   "source": [
    "## 4.Model"
   ]
  },
  {
   "cell_type": "code",
   "execution_count": null,
   "id": "62571f4c",
   "metadata": {},
   "outputs": [],
   "source": [
    "class FullyConnectedMLP(nn.Module):\n",
    "\n",
    "    def __init__(\n",
    "        self,\n",
    "        input_dim,\n",
    "        hiddens,\n",
    "        output_dim,\n",
    "        activation_gen=lambda: nn.ReLU(),\n",
    "        sn_iters=0\n",
    "    ):\n",
    "\n",
    "        def _SN(module):\n",
    "            if sn_iters == 0:\n",
    "                return module\n",
    "            return spectral_norm(\n",
    "                module, init=False, zero_bias=False, n_iters=sn_iters)\n",
    "\n",
    "        assert isinstance(hiddens, list)\n",
    "        super().__init__()\n",
    "        self.input_dim = input_dim\n",
    "        self.output_dim = output_dim\n",
    "        self.hiddens = hiddens\n",
    "\n",
    "        model = []\n",
    "        prev_h = input_dim\n",
    "        for h in hiddens:\n",
    "            model.append(_SN(nn.Linear(prev_h, h)))\n",
    "            model.append(activation_gen())\n",
    "            prev_h = h\n",
    "        model.append(_SN(nn.Linear(hiddens[-1], output_dim)))\n",
    "        self.net = nn.Sequential(*model)\n",
    "\n",
    "    def forward(self, x):\n",
    "        batch_size = x.shape[0]\n",
    "        x = x.view(batch_size, -1)\n",
    "        return self.net(x).view(batch_size, self.output_dim)"
   ]
  },
  {
   "cell_type": "code",
   "execution_count": null,
   "id": "77caa50b",
   "metadata": {},
   "outputs": [],
   "source": [
    "class FullyConnectedMLPwithConfig(nn.Module):\n",
    "\n",
    "    def __init__(\n",
    "        self,\n",
    "        input_dim,\n",
    "        hiddens,\n",
    "        output_dim,\n",
    "        config=None,\n",
    "        activation_gen=lambda: nn.ReLU(),\n",
    "        sn_iters=0\n",
    "    ):\n",
    "        super().__init__()\n",
    "        self.potential = FullyConnectedMLP(\n",
    "            input_dim, hiddens, output_dim, \n",
    "            activation_gen=activation_gen, sn_iters=sn_iters)\n",
    "    \n",
    "    def forward(self, x):\n",
    "        return self.potential(x)"
   ]
  },
  {
   "cell_type": "code",
   "execution_count": null,
   "id": "a09c6d44",
   "metadata": {},
   "outputs": [],
   "source": [
    "f1 = FullyConnectedMLPwithConfig(input_dim=CONFIG.DIM,\n",
    "                                hiddens=dim2hiddens[CONFIG.DIM],\n",
    "                                output_dim=1).to(CONFIG.DEVICE)\n",
    "\n",
    " \n",
    "f1_opt = torch.optim.Adam(f1.parameters(), CONFIG.LR, betas=CONFIG.BETAS)"
   ]
  },
  {
   "cell_type": "markdown",
   "id": "486ad61d",
   "metadata": {},
   "source": [
    "## 5. Training procedure"
   ]
  },
  {
   "cell_type": "code",
   "execution_count": null,
   "id": "782fcd46",
   "metadata": {},
   "outputs": [],
   "source": [
    "def sample_langevin_mu_f(\n",
    "        f: Callable[[torch.Tensor], torch.Tensor], \n",
    "        x: torch.Tensor, \n",
    "        y_init: torch.Tensor, \n",
    "        config: Config\n",
    "    ) -> torch.Tensor:\n",
    "    \n",
    "    def score(y, ret_stats=False):\n",
    "        return cond_score(f, cost_l2_grad_y, y, x, config, ret_stats=ret_stats)\n",
    "    \n",
    "    y, r_t, cost_r_t, score_r_t, noise_norm = sample_langevin_batch(\n",
    "        score, \n",
    "        y_init,\n",
    "        n_steps=config.ENERGY_SAMPLING_ITERATIONS, \n",
    "        decay=config.LANGEVIN_DECAY, \n",
    "        thresh=config.LANGEVIN_THRESH, \n",
    "        noise=config.LANGEVIN_SAMPLING_NOISE, \n",
    "        data_projector=lambda x: x, \n",
    "        compute_stats=True)\n",
    "    \n",
    "    return y"
   ]
  },
  {
   "cell_type": "code",
   "execution_count": null,
   "id": "d09526c0",
   "metadata": {},
   "outputs": [],
   "source": [
    "init_noise_sampler = Distrib2Sampler(TD.Normal(\n",
    "    torch.zeros(CONFIG.DIM).to('cpu'), \n",
    "    torch.ones(CONFIG.DIM).to('cpu') * CONFIG.BASIC_NOISE_VAR))"
   ]
  },
  {
   "cell_type": "code",
   "execution_count": null,
   "id": "1871b62f",
   "metadata": {},
   "outputs": [],
   "source": [
    "SMDS = StatsManagerDrawScheduler(StatsManager('loss'), 1, 1, (5, 4), epoch_freq=20)\n",
    "\n",
    "for step in tqdm(range(CONFIG.EPOCHS)):\n",
    "     \n",
    "    f1.train(True)\n",
    "    X1 = data_samplers[0].sample(CONFIG.BATCH_SIZE).to(CONFIG.DEVICE)\n",
    "    X2 = data_samplers[1].sample(CONFIG.BATCH_SIZE).to(CONFIG.DEVICE)\n",
    "    \n",
    "    Y1_init = init_noise_sampler.sample(CONFIG.BATCH_SIZE).to(CONFIG.DEVICE)\n",
    "    Y2_init = init_noise_sampler.sample(CONFIG.BATCH_SIZE).to(CONFIG.DEVICE)\n",
    "    \n",
    "    with evaluating(f1):\n",
    "        Y1 = sample_langevin_mu_f(lambda x: f1(x), X1, Y1_init, CONFIG)\n",
    "        Y2 = sample_langevin_mu_f(lambda x: -f1(x), X2, Y2_init, CONFIG)\n",
    "        \n",
    "    loss = CONFIG.ALPHAS_BARYCENTER[0]*f1(Y1).mean() - CONFIG.ALPHAS_BARYCENTER[1]*f1(Y2).mean()\n",
    "    f1_opt.zero_grad(); loss.backward(); f1_opt.step()\n",
    "    SMDS.SM.upd('loss', loss.item())\n",
    "    SMDS.epoch()\n",
    "    \n",
    "            "
   ]
  },
  {
   "cell_type": "markdown",
   "id": "c378d1bb",
   "metadata": {},
   "source": [
    "## 6. Evaluation"
   ]
  },
  {
   "cell_type": "code",
   "execution_count": null,
   "id": "0f712a19",
   "metadata": {},
   "outputs": [],
   "source": [
    "def ed(x, y):\n",
    "    Kxx = pairwise_distances(x, x)\n",
    "    Kyy = pairwise_distances(y, y)\n",
    "    Kxy = pairwise_distances(x, y)\n",
    "\n",
    "    m = x.shape[0]\n",
    "    n = y.shape[0]\n",
    "    \n",
    "    c1 = 1 / ( m * (m - 1))\n",
    "    A = np.sum(Kxx - np.diag(np.diagonal(Kxx)))\n",
    "\n",
    "    # Term II\n",
    "    c2 = 1 / (n * (n - 1))\n",
    "    B = np.sum(Kyy - np.diag(np.diagonal(Kyy)))\n",
    "\n",
    "    # Term III\n",
    "    c3 = 1 / (m * n)\n",
    "    C = np.sum(Kxy)\n",
    "\n",
    "    # estimate MMD\n",
    "    mmd_est = -0.5*c1*A - 0.5*c2*B + c3*C\n",
    "    \n",
    "    return mmd_est"
   ]
  },
  {
   "cell_type": "code",
   "execution_count": null,
   "id": "64f53a18",
   "metadata": {},
   "outputs": [],
   "source": [
    "X = torch.tensor(start_data).float().to(DEVICE)\n",
    "Y1_init = init_noise_sampler.sample(start_data.shape[0]).to(CONFIG.DEVICE)\n",
    "with evaluating(f1):\n",
    "    Y1 = sample_langevin_mu_f(lambda x: f1(x), X, Y1_init, CONFIG)\n",
    "\n",
    "x = X.cpu()\n",
    "egbary_samples = Y1.cpu()\n",
    "eps = torch.tensor(CONFIG.EPS)\n",
    "\n",
    "predict = torch.sqrt(0.5*0.5*eps)*torch.randn_like(x) + 0.5*x + 0.5*egbary_samples\n",
    "predict = predict * constant_scale\n",
    "\n",
    "gt_predict = eval_data\n",
    "RES = ed(predict.cpu().numpy(), gt_predict.cpu().numpy())"
   ]
  },
  {
   "cell_type": "code",
   "execution_count": null,
   "id": "24a84aea",
   "metadata": {},
   "outputs": [],
   "source": [
    "file = open(f'../EnergyGuidedBarycenters/data_sc/metrics.txt','a')\n",
    "file.write(f\"dim = {DIM}, setup = {SETUP}, rsi = {RSI}, res = {RES} \\n\")\n",
    "file.close()"
   ]
  },
  {
   "cell_type": "code",
   "execution_count": null,
   "id": "21cf95f3",
   "metadata": {},
   "outputs": [],
   "source": []
  },
  {
   "cell_type": "code",
   "execution_count": null,
   "id": "3eee8540",
   "metadata": {},
   "outputs": [],
   "source": []
  }
 ],
 "metadata": {
  "celltoolbar": "Tags",
  "kernelspec": {
   "display_name": "Python 3",
   "language": "python",
   "name": "python3"
  },
  "language_info": {
   "codemirror_mode": {
    "name": "ipython",
    "version": 3
   },
   "file_extension": ".py",
   "mimetype": "text/x-python",
   "name": "python",
   "nbconvert_exporter": "python",
   "pygments_lexer": "ipython3",
   "version": "3.8.5"
  }
 },
 "nbformat": 4,
 "nbformat_minor": 5
}
