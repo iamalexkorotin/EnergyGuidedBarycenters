{
 "cells": [
  {
   "cell_type": "markdown",
   "id": "f19c272c",
   "metadata": {},
   "source": [
    "# Single-cell experiment"
   ]
  },
  {
   "cell_type": "code",
   "execution_count": 105,
   "id": "eaec6614",
   "metadata": {},
   "outputs": [],
   "source": [
    "import torch\n",
    "import torch.nn as nn\n",
    "import torchvision\n",
    "import torch.distributions as TD\n",
    "\n",
    "import numpy as np\n",
    "import matplotlib.pyplot as plt\n",
    "%matplotlib inline \n",
    "\n",
    "from tqdm import tqdm\n",
    "import wandb\n",
    "import os\n",
    "import sys \n",
    "sys.path.append(\"../EnergyGuidedBarycenters/\")\n",
    "from src.utils import Config, Distrib2Sampler, plot_barycenter_map_in_data_space\n",
    "from src.eot_utils import computePotGrad, evaluating\n",
    "from src.eot import sample_langevin_batch\n",
    "from src.dgm_utils.statsmanager import StatsManager, StatsManagerDrawScheduler\n",
    "from src.cost import cond_score, cost_l2_grad_y\n",
    "from src.distributions import DatasetSampler\n",
    "from src.resnet2 import  ResNet_D, weights_init_D\n",
    "\n",
    "from typing import Callable, Tuple, Union\n",
    "from sklearn.metrics.pairwise import pairwise_distances"
   ]
  },
  {
   "cell_type": "markdown",
   "id": "f76574e9",
   "metadata": {},
   "source": [
    "## 1. Setup"
   ]
  },
  {
   "cell_type": "code",
   "execution_count": 505,
   "id": "c250c27b",
   "metadata": {
    "tags": [
     "parameters"
    ]
   },
   "outputs": [],
   "source": [
    "SETUP = 1\n",
    "DIM = 1000\n",
    "EPS = 0.01\n",
    "RSI = 4"
   ]
  },
  {
   "cell_type": "code",
   "execution_count": 506,
   "id": "7133dad4",
   "metadata": {},
   "outputs": [],
   "source": [
    "setup2vals = {\n",
    "    0: (2, 4, 3),\n",
    "    1: (3, 7, 4)\n",
    "}\n",
    "\n",
    "alphas = {\n",
    "    0: [0.5,0.5],\n",
    "    1: [0.75,0.25]\n",
    "}\n",
    "\n",
    "dim2lr = {\n",
    "    50: 5e-4,\n",
    "    100: 5e-4,\n",
    "    1000: 5e-4\n",
    "}\n",
    "\n",
    "dim2epochs = {\n",
    "    50: 50,\n",
    "    100: 50,\n",
    "    1000: 50\n",
    "}\n",
    "\n",
    "rsi2seed = {\n",
    "    0: 42,\n",
    "    1: 43,\n",
    "    2: 44,\n",
    "    3: 45,\n",
    "    4: 46\n",
    "}\n",
    "\n",
    "dim2hiddens = {\n",
    "    50: [256, 256, 256],\n",
    "    100: [256, 256, 256],\n",
    "    1000: [2048, 1024, 512]\n",
    "}\n"
   ]
  },
  {
   "cell_type": "markdown",
   "id": "cb184a17",
   "metadata": {},
   "source": [
    "## 2. Create Config"
   ]
  },
  {
   "cell_type": "code",
   "execution_count": 519,
   "id": "b3efd2cc",
   "metadata": {},
   "outputs": [],
   "source": [
    "CONFIG = Config()\n",
    "CONFIG.DIM = DIM\n",
    "CONFIG.EPS = EPS\n",
    "CONFIG.SETUP = SETUP\n",
    "CONFIG.RSI = RSI\n",
    "CONFIG.SEED = rsi2seed[RSI]\n",
    "CONFIG.DEVICE = 'cuda'\n",
    "\n",
    "CONFIG.CLIP_GRADS_NORM = False\n",
    "CONFIG.ALPHAS_BARYCENTER = alphas[SETUP] # loss += alpha * (pos_out ** 2 + neg_out ** 2)\n",
    "CONFIG.HREG = CONFIG.EPS\n",
    "CONFIG.BATCH_SIZE = 1024\n",
    "CONFIG.EPOCHS = dim2epochs[CONFIG.DIM]\n",
    "CONFIG.LR = dim2lr[CONFIG.DIM]\n",
    "CONFIG.BASIC_NOISE_VAR = 2.0\n",
    "CONFIG.BETAS = (0.2, 0.99)\n",
    " \n",
    "\n",
    "CONFIG.LANGEVIN_THRESH = None\n",
    "CONFIG.LANGEVIN_SAMPLING_NOISE = 0.05\n",
    "CONFIG.ENERGY_SAMPLING_ITERATIONS = 1000\n",
    "CONFIG.LANGEVIN_DECAY = 1.0\n",
    "CONFIG.LANGEVIN_SCORE_COEFFICIENT = 1.0\n",
    "CONFIG.LANGEVIN_COST_COEFFICIENT = CONFIG.LANGEVIN_SAMPLING_NOISE ** 2\n",
    "CONFIG.ENERGY_SAMPLING_STEP = 1.0\n",
    "CONFIG.SPECTRAL_NORM_ITERS = 0\n",
    "CONFIG.REFERENCE_DATA_NOISE_SIGMA = 0.00\n",
    "CONFIG.P_SAMPLE_BUFFER_REPLAY = 0.95\n",
    "CONFIG.ENERGY_SAMPLING_NO_PROJECT_DATA = True\n",
    " \n",
    "DEVICE = CONFIG.DEVICE\n",
    "DIM = CONFIG.DIM"
   ]
  },
  {
   "cell_type": "markdown",
   "id": "56255199",
   "metadata": {},
   "source": [
    "## 3. Data preprocessing"
   ]
  },
  {
   "cell_type": "code",
   "execution_count": 520,
   "id": "80a7b8e8",
   "metadata": {},
   "outputs": [],
   "source": [
    "class Sampler:\n",
    "    def __init__(\n",
    "        self, device='cuda',\n",
    "    ):\n",
    "        self.device = device\n",
    "    \n",
    "    def sample(self, bs):\n",
    "        pass\n",
    "    \n",
    "\n",
    "class TensorSampler(Sampler):\n",
    "    def __init__(self, tensor, device='cuda'):\n",
    "        super(TensorSampler, self).__init__(device)\n",
    "        self.tensor = torch.clone(tensor).to(device)\n",
    "        \n",
    "    def sample(self, bs):\n",
    "        assert bs <= self.tensor.shape[0]\n",
    "        \n",
    "        ind = torch.tensor(np.random.choice(np.arange(self.tensor.shape[0]), size=bs, replace=False), device=self.device)\n",
    "        return torch.clone(self.tensor[ind]).detach().to(self.device)"
   ]
  },
  {
   "cell_type": "code",
   "execution_count": 521,
   "id": "bfa13868",
   "metadata": {},
   "outputs": [],
   "source": [
    "DAY_START, DAY_END, DAY_EVAL = setup2vals[CONFIG.SETUP]\n",
    "DATA_DIR = '../EnergyGuidedBarycenters_/data_sc/'\n",
    "data = {}\n",
    "for day in [2, 3, 4, 7]:\n",
    "    data[day] = np.load(os.path.join(DATA_DIR, f\"full_cite_pcas_{DIM}_day_{day}.npy\"))"
   ]
  },
  {
   "cell_type": "code",
   "execution_count": 522,
   "id": "7ec0541d",
   "metadata": {},
   "outputs": [],
   "source": [
    "eval_data = data[DAY_EVAL]\n",
    "start_data = data[DAY_START]\n",
    "end_data = data[DAY_END]\n",
    "\n",
    "constant_scale = np.concatenate([start_data, end_data, eval_data]).std(axis=0).mean()\n",
    "\n",
    "eval_data_scaled = eval_data/constant_scale\n",
    "start_data_scaled = start_data/constant_scale\n",
    "end_data_scaled = end_data/constant_scale\n",
    "\n",
    "eval_data = torch.tensor(eval_data).float()\n",
    "start_data = torch.tensor(start_data_scaled).float()\n",
    "end_data = torch.tensor(end_data_scaled).float()"
   ]
  },
  {
   "cell_type": "code",
   "execution_count": 523,
   "id": "4c89d870",
   "metadata": {},
   "outputs": [
    {
     "name": "stderr",
     "output_type": "stream",
     "text": [
      "<ipython-input-523-ba27e87b29dd>:1: UserWarning: To copy construct from a tensor, it is recommended to use sourceTensor.clone().detach() or sourceTensor.clone().detach().requires_grad_(True), rather than torch.tensor(sourceTensor).\n",
      "  X_sampler = TensorSampler(torch.tensor(start_data).float(), device=DEVICE)\n",
      "<ipython-input-523-ba27e87b29dd>:2: UserWarning: To copy construct from a tensor, it is recommended to use sourceTensor.clone().detach() or sourceTensor.clone().detach().requires_grad_(True), rather than torch.tensor(sourceTensor).\n",
      "  Y_sampler = TensorSampler(torch.tensor(end_data).float(), device=DEVICE)\n"
     ]
    }
   ],
   "source": [
    "X_sampler = TensorSampler(torch.tensor(start_data).float(), device=DEVICE)\n",
    "Y_sampler = TensorSampler(torch.tensor(end_data).float(), device=DEVICE)"
   ]
  },
  {
   "cell_type": "code",
   "execution_count": 524,
   "id": "21854c42",
   "metadata": {},
   "outputs": [],
   "source": [
    "data_samplers = []\n",
    "data_samplers.append(X_sampler)\n",
    "data_samplers.append(Y_sampler)"
   ]
  },
  {
   "cell_type": "markdown",
   "id": "6155132f",
   "metadata": {},
   "source": [
    "## 4.Model"
   ]
  },
  {
   "cell_type": "code",
   "execution_count": 525,
   "id": "ac45c55b",
   "metadata": {},
   "outputs": [],
   "source": [
    "class FullyConnectedMLP(nn.Module):\n",
    "\n",
    "    def __init__(\n",
    "        self,\n",
    "        input_dim,\n",
    "        hiddens,\n",
    "        output_dim,\n",
    "        activation_gen=lambda: nn.ReLU(),\n",
    "        sn_iters=0\n",
    "    ):\n",
    "\n",
    "        def _SN(module):\n",
    "            if sn_iters == 0:\n",
    "                return module\n",
    "            return spectral_norm(\n",
    "                module, init=False, zero_bias=False, n_iters=sn_iters)\n",
    "\n",
    "        assert isinstance(hiddens, list)\n",
    "        super().__init__()\n",
    "        self.input_dim = input_dim\n",
    "        self.output_dim = output_dim\n",
    "        self.hiddens = hiddens\n",
    "\n",
    "        model = []\n",
    "        prev_h = input_dim\n",
    "        for h in hiddens:\n",
    "            model.append(_SN(nn.Linear(prev_h, h)))\n",
    "            model.append(activation_gen())\n",
    "            prev_h = h\n",
    "        model.append(_SN(nn.Linear(hiddens[-1], output_dim)))\n",
    "        self.net = nn.Sequential(*model)\n",
    "\n",
    "    def forward(self, x):\n",
    "        batch_size = x.shape[0]\n",
    "        x = x.view(batch_size, -1)\n",
    "        return self.net(x).view(batch_size, self.output_dim)"
   ]
  },
  {
   "cell_type": "code",
   "execution_count": 526,
   "id": "a4ff2f2e",
   "metadata": {},
   "outputs": [],
   "source": [
    "class FullyConnectedMLPwithConfig(nn.Module):\n",
    "\n",
    "    def __init__(\n",
    "        self,\n",
    "        input_dim,\n",
    "        hiddens,\n",
    "        output_dim,\n",
    "        config=None,\n",
    "        activation_gen=lambda: nn.ReLU(),\n",
    "        sn_iters=0\n",
    "    ):\n",
    "        super().__init__()\n",
    "        self.potential = FullyConnectedMLP(\n",
    "            input_dim, hiddens, output_dim, \n",
    "            activation_gen=activation_gen, sn_iters=sn_iters)\n",
    "    \n",
    "    def forward(self, x):\n",
    "        return self.potential(x)"
   ]
  },
  {
   "cell_type": "code",
   "execution_count": 527,
   "id": "b2023f84",
   "metadata": {},
   "outputs": [],
   "source": [
    "f1 = FullyConnectedMLPwithConfig(input_dim=CONFIG.DIM,\n",
    "                                hiddens=dim2hiddens[CONFIG.DIM],\n",
    "                                output_dim=1).to(CONFIG.DEVICE)\n",
    "\n",
    " \n",
    "f1_opt = torch.optim.Adam(f1.parameters(), CONFIG.LR, betas=CONFIG.BETAS)"
   ]
  },
  {
   "cell_type": "markdown",
   "id": "07a58fc8",
   "metadata": {},
   "source": [
    "## 5. Training procedure"
   ]
  },
  {
   "cell_type": "code",
   "execution_count": 528,
   "id": "43aef98d",
   "metadata": {},
   "outputs": [],
   "source": [
    "def sample_langevin_mu_f(\n",
    "        f: Callable[[torch.Tensor], torch.Tensor], \n",
    "        x: torch.Tensor, \n",
    "        y_init: torch.Tensor, \n",
    "        config: Config\n",
    "    ) -> torch.Tensor:\n",
    "    \n",
    "    def score(y, ret_stats=False):\n",
    "        return cond_score(f, cost_l2_grad_y, y, x, config, ret_stats=ret_stats)\n",
    "    \n",
    "    y, r_t, cost_r_t, score_r_t, noise_norm = sample_langevin_batch(\n",
    "        score, \n",
    "        y_init,\n",
    "        n_steps=config.ENERGY_SAMPLING_ITERATIONS, \n",
    "        decay=config.LANGEVIN_DECAY, \n",
    "        thresh=config.LANGEVIN_THRESH, \n",
    "        noise=config.LANGEVIN_SAMPLING_NOISE, \n",
    "        data_projector=lambda x: x, \n",
    "        compute_stats=True)\n",
    "    \n",
    "    return y"
   ]
  },
  {
   "cell_type": "code",
   "execution_count": 529,
   "id": "bbf5beae",
   "metadata": {},
   "outputs": [],
   "source": [
    "init_noise_sampler = Distrib2Sampler(TD.Normal(\n",
    "    torch.zeros(CONFIG.DIM).to('cpu'), \n",
    "    torch.ones(CONFIG.DIM).to('cpu') * CONFIG.BASIC_NOISE_VAR))"
   ]
  },
  {
   "cell_type": "code",
   "execution_count": 530,
   "id": "f75437c9",
   "metadata": {},
   "outputs": [
    {
     "data": {
      "image/png": "[encoded data removed]",
      "text/plain": [
       "<Figure size 500x400 with 1 Axes>"
      ]
     },
     "metadata": {},
     "output_type": "display_data"
    },
    {
     "name": "stderr",
     "output_type": "stream",
     "text": [
      " 66%|██████▌   | 33/50 [04:56<02:32,  8.99s/it]\n"
     ]
    },
    {
     "ename": "KeyboardInterrupt",
     "evalue": "",
     "output_type": "error",
     "traceback": [
      "\u001b[0;31m---------------------------------------------------------------------------\u001b[0m",
      "\u001b[0;31mKeyboardInterrupt\u001b[0m                         Traceback (most recent call last)",
      "Cell \u001b[0;32mIn[530], line 14\u001b[0m\n\u001b[1;32m     12\u001b[0m \u001b[38;5;28;01mwith\u001b[39;00m evaluating(f1):\n\u001b[1;32m     13\u001b[0m     Y1 \u001b[38;5;241m=\u001b[39m sample_langevin_mu_f(\u001b[38;5;28;01mlambda\u001b[39;00m x: f1(x), X1, Y1_init, CONFIG)\n\u001b[0;32m---> 14\u001b[0m     Y2 \u001b[38;5;241m=\u001b[39m \u001b[43msample_langevin_mu_f\u001b[49m\u001b[43m(\u001b[49m\u001b[38;5;28;43;01mlambda\u001b[39;49;00m\u001b[43m \u001b[49m\u001b[43mx\u001b[49m\u001b[43m:\u001b[49m\u001b[43m \u001b[49m\u001b[38;5;241;43m-\u001b[39;49m\u001b[43mf1\u001b[49m\u001b[43m(\u001b[49m\u001b[43mx\u001b[49m\u001b[43m)\u001b[49m\u001b[43m,\u001b[49m\u001b[43m \u001b[49m\u001b[43mX2\u001b[49m\u001b[43m,\u001b[49m\u001b[43m \u001b[49m\u001b[43mY2_init\u001b[49m\u001b[43m,\u001b[49m\u001b[43m \u001b[49m\u001b[43mCONFIG\u001b[49m\u001b[43m)\u001b[49m\n\u001b[1;32m     16\u001b[0m loss \u001b[38;5;241m=\u001b[39m CONFIG\u001b[38;5;241m.\u001b[39mALPHAS_BARYCENTER[\u001b[38;5;241m0\u001b[39m]\u001b[38;5;241m*\u001b[39mf1(Y1)\u001b[38;5;241m.\u001b[39mmean() \u001b[38;5;241m-\u001b[39m CONFIG\u001b[38;5;241m.\u001b[39mALPHAS_BARYCENTER[\u001b[38;5;241m1\u001b[39m]\u001b[38;5;241m*\u001b[39mf1(Y2)\u001b[38;5;241m.\u001b[39mmean()\n\u001b[1;32m     17\u001b[0m f1_opt\u001b[38;5;241m.\u001b[39mzero_grad(); loss\u001b[38;5;241m.\u001b[39mbackward(); f1_opt\u001b[38;5;241m.\u001b[39mstep()\n",
      "Cell \u001b[0;32mIn[528], line 11\u001b[0m, in \u001b[0;36msample_langevin_mu_f\u001b[0;34m(f, x, y_init, config)\u001b[0m\n\u001b[1;32m      8\u001b[0m \u001b[38;5;28;01mdef\u001b[39;00m \u001b[38;5;21mscore\u001b[39m(y, ret_stats\u001b[38;5;241m=\u001b[39m\u001b[38;5;28;01mFalse\u001b[39;00m):\n\u001b[1;32m      9\u001b[0m     \u001b[38;5;28;01mreturn\u001b[39;00m cond_score(f, cost_l2_grad_y, y, x, config, ret_stats\u001b[38;5;241m=\u001b[39mret_stats)\n\u001b[0;32m---> 11\u001b[0m y, r_t, cost_r_t, score_r_t, noise_norm \u001b[38;5;241m=\u001b[39m \u001b[43msample_langevin_batch\u001b[49m\u001b[43m(\u001b[49m\n\u001b[1;32m     12\u001b[0m \u001b[43m    \u001b[49m\u001b[43mscore\u001b[49m\u001b[43m,\u001b[49m\u001b[43m \u001b[49m\n\u001b[1;32m     13\u001b[0m \u001b[43m    \u001b[49m\u001b[43my_init\u001b[49m\u001b[43m,\u001b[49m\n\u001b[1;32m     14\u001b[0m \u001b[43m    \u001b[49m\u001b[43mn_steps\u001b[49m\u001b[38;5;241;43m=\u001b[39;49m\u001b[43mconfig\u001b[49m\u001b[38;5;241;43m.\u001b[39;49m\u001b[43mENERGY_SAMPLING_ITERATIONS\u001b[49m\u001b[43m,\u001b[49m\u001b[43m \u001b[49m\n\u001b[1;32m     15\u001b[0m \u001b[43m    \u001b[49m\u001b[43mdecay\u001b[49m\u001b[38;5;241;43m=\u001b[39;49m\u001b[43mconfig\u001b[49m\u001b[38;5;241;43m.\u001b[39;49m\u001b[43mLANGEVIN_DECAY\u001b[49m\u001b[43m,\u001b[49m\u001b[43m \u001b[49m\n\u001b[1;32m     16\u001b[0m \u001b[43m    \u001b[49m\u001b[43mthresh\u001b[49m\u001b[38;5;241;43m=\u001b[39;49m\u001b[43mconfig\u001b[49m\u001b[38;5;241;43m.\u001b[39;49m\u001b[43mLANGEVIN_THRESH\u001b[49m\u001b[43m,\u001b[49m\u001b[43m \u001b[49m\n\u001b[1;32m     17\u001b[0m \u001b[43m    \u001b[49m\u001b[43mnoise\u001b[49m\u001b[38;5;241;43m=\u001b[39;49m\u001b[43mconfig\u001b[49m\u001b[38;5;241;43m.\u001b[39;49m\u001b[43mLANGEVIN_SAMPLING_NOISE\u001b[49m\u001b[43m,\u001b[49m\u001b[43m \u001b[49m\n\u001b[1;32m     18\u001b[0m \u001b[43m    \u001b[49m\u001b[43mdata_projector\u001b[49m\u001b[38;5;241;43m=\u001b[39;49m\u001b[38;5;28;43;01mlambda\u001b[39;49;00m\u001b[43m \u001b[49m\u001b[43mx\u001b[49m\u001b[43m:\u001b[49m\u001b[43m \u001b[49m\u001b[43mx\u001b[49m\u001b[43m,\u001b[49m\u001b[43m \u001b[49m\n\u001b[1;32m     19\u001b[0m \u001b[43m    \u001b[49m\u001b[43mcompute_stats\u001b[49m\u001b[38;5;241;43m=\u001b[39;49m\u001b[38;5;28;43;01mTrue\u001b[39;49;00m\u001b[43m)\u001b[49m\n\u001b[1;32m     21\u001b[0m \u001b[38;5;28;01mreturn\u001b[39;00m y\n",
      "File \u001b[0;32m~/EnergyGuidedBarycenters/src/eot.py:174\u001b[0m, in \u001b[0;36msample_langevin_batch\u001b[0;34m(score_function, x, n_steps, decay, thresh, noise, data_projector, compute_stats)\u001b[0m\n\u001b[1;32m    172\u001b[0m \u001b[38;5;28;01mif\u001b[39;00m compute_stats:\n\u001b[1;32m    173\u001b[0m     r_t \u001b[38;5;241m+\u001b[39m\u001b[38;5;241m=\u001b[39m (\u001b[38;5;241m0.5\u001b[39m \u001b[38;5;241m*\u001b[39m score_coeff\u001b[38;5;241m.\u001b[39mview(\u001b[38;5;241m-\u001b[39m\u001b[38;5;241m1\u001b[39m) \u001b[38;5;241m*\u001b[39m sc\u001b[38;5;241m.\u001b[39mdata\u001b[38;5;241m.\u001b[39mview(sc\u001b[38;5;241m.\u001b[39msize(\u001b[38;5;241m0\u001b[39m), \u001b[38;5;241m-\u001b[39m\u001b[38;5;241m1\u001b[39m)\u001b[38;5;241m.\u001b[39mnorm(dim\u001b[38;5;241m=\u001b[39m\u001b[38;5;241m1\u001b[39m))\u001b[38;5;241m.\u001b[39mmean()\n\u001b[0;32m--> 174\u001b[0m     cost_r_t \u001b[38;5;241m+\u001b[39m\u001b[38;5;241m=\u001b[39m (\u001b[38;5;241;43m0.5\u001b[39;49m\u001b[43m \u001b[49m\u001b[38;5;241;43m*\u001b[39;49m\u001b[43m \u001b[49m\u001b[43mscore_coeff\u001b[49m\u001b[38;5;241;43m.\u001b[39;49m\u001b[43mview\u001b[49m\u001b[43m(\u001b[49m\u001b[38;5;241;43m-\u001b[39;49m\u001b[38;5;241;43m1\u001b[39;49m\u001b[43m)\u001b[49m \u001b[38;5;241m*\u001b[39m cost_part\u001b[38;5;241m.\u001b[39mdata\u001b[38;5;241m.\u001b[39mview(sc\u001b[38;5;241m.\u001b[39msize(\u001b[38;5;241m0\u001b[39m), \u001b[38;5;241m-\u001b[39m\u001b[38;5;241m1\u001b[39m)\u001b[38;5;241m.\u001b[39mnorm(dim\u001b[38;5;241m=\u001b[39m\u001b[38;5;241m1\u001b[39m))\u001b[38;5;241m.\u001b[39mmean()\n\u001b[1;32m    175\u001b[0m     score_r_t \u001b[38;5;241m+\u001b[39m\u001b[38;5;241m=\u001b[39m (\u001b[38;5;241m0.5\u001b[39m \u001b[38;5;241m*\u001b[39m score_coeff\u001b[38;5;241m.\u001b[39mview(\u001b[38;5;241m-\u001b[39m\u001b[38;5;241m1\u001b[39m) \u001b[38;5;241m*\u001b[39m score_part\u001b[38;5;241m.\u001b[39mdata\u001b[38;5;241m.\u001b[39mview(sc\u001b[38;5;241m.\u001b[39msize(\u001b[38;5;241m0\u001b[39m), \u001b[38;5;241m-\u001b[39m\u001b[38;5;241m1\u001b[39m)\u001b[38;5;241m.\u001b[39mnorm(dim\u001b[38;5;241m=\u001b[39m\u001b[38;5;241m1\u001b[39m))\u001b[38;5;241m.\u001b[39mmean()\n\u001b[1;32m    176\u001b[0m     noise_t \u001b[38;5;241m+\u001b[39m\u001b[38;5;241m=\u001b[39m (noise\u001b[38;5;241m.\u001b[39mview(\u001b[38;5;241m-\u001b[39m\u001b[38;5;241m1\u001b[39m) \u001b[38;5;241m*\u001b[39m z_t\u001b[38;5;241m.\u001b[39mdata\u001b[38;5;241m.\u001b[39mview(z_t\u001b[38;5;241m.\u001b[39msize(\u001b[38;5;241m0\u001b[39m), \u001b[38;5;241m-\u001b[39m\u001b[38;5;241m1\u001b[39m)\u001b[38;5;241m.\u001b[39mnorm(dim\u001b[38;5;241m=\u001b[39m\u001b[38;5;241m1\u001b[39m))\u001b[38;5;241m.\u001b[39mmean()\n",
      "\u001b[0;31mKeyboardInterrupt\u001b[0m: "
     ]
    }
   ],
   "source": [
    "SMDS = StatsManagerDrawScheduler(StatsManager('loss'), 1, 1, (5, 4), epoch_freq=20)\n",
    "\n",
    "for step in tqdm(range(CONFIG.EPOCHS)):\n",
    "     \n",
    "    f1.train(True)\n",
    "    X1 = data_samplers[0].sample(CONFIG.BATCH_SIZE).to(CONFIG.DEVICE)\n",
    "    X2 = data_samplers[1].sample(CONFIG.BATCH_SIZE).to(CONFIG.DEVICE)\n",
    "    \n",
    "    Y1_init = init_noise_sampler.sample(CONFIG.BATCH_SIZE).to(CONFIG.DEVICE)\n",
    "    Y2_init = init_noise_sampler.sample(CONFIG.BATCH_SIZE).to(CONFIG.DEVICE)\n",
    "    \n",
    "    with evaluating(f1):\n",
    "        Y1 = sample_langevin_mu_f(lambda x: f1(x), X1, Y1_init, CONFIG)\n",
    "        Y2 = sample_langevin_mu_f(lambda x: -f1(x), X2, Y2_init, CONFIG)\n",
    "        \n",
    "    loss = CONFIG.ALPHAS_BARYCENTER[0]*f1(Y1).mean() - CONFIG.ALPHAS_BARYCENTER[1]*f1(Y2).mean()\n",
    "    f1_opt.zero_grad(); loss.backward(); f1_opt.step()\n",
    "    SMDS.SM.upd('loss', loss.item())\n",
    "    SMDS.epoch()\n",
    "    \n",
    "            "
   ]
  },
  {
   "cell_type": "markdown",
   "id": "1fd28558",
   "metadata": {},
   "source": [
    "## 6. Evaluation"
   ]
  },
  {
   "cell_type": "code",
   "execution_count": 462,
   "id": "b995cc6a",
   "metadata": {},
   "outputs": [],
   "source": [
    "def ed(x, y):\n",
    "    Kxx = pairwise_distances(x, x)\n",
    "    Kyy = pairwise_distances(y, y)\n",
    "    Kxy = pairwise_distances(x, y)\n",
    "\n",
    "    m = x.shape[0]\n",
    "    n = y.shape[0]\n",
    "    \n",
    "    c1 = 1 / ( m * (m - 1))\n",
    "    A = np.sum(Kxx - np.diag(np.diagonal(Kxx)))\n",
    "\n",
    "    # Term II\n",
    "    c2 = 1 / (n * (n - 1))\n",
    "    B = np.sum(Kyy - np.diag(np.diagonal(Kyy)))\n",
    "\n",
    "    # Term III\n",
    "    c3 = 1 / (m * n)\n",
    "    C = np.sum(Kxy)\n",
    "\n",
    "    # estimate MMD\n",
    "    mmd_est = -0.5*c1*A - 0.5*c2*B + c3*C\n",
    "    \n",
    "    return mmd_est"
   ]
  },
  {
   "cell_type": "code",
   "execution_count": 531,
   "id": "2385a8b6",
   "metadata": {},
   "outputs": [
    {
     "name": "stderr",
     "output_type": "stream",
     "text": [
      "<ipython-input-531-24b57ebf0191>:1: UserWarning: To copy construct from a tensor, it is recommended to use sourceTensor.clone().detach() or sourceTensor.clone().detach().requires_grad_(True), rather than torch.tensor(sourceTensor).\n",
      "  X = torch.tensor(start_data).float().to(DEVICE)\n"
     ]
    }
   ],
   "source": [
    "X = torch.tensor(start_data).float().to(DEVICE)\n",
    "Y1_init = init_noise_sampler.sample(start_data.shape[0]).to(CONFIG.DEVICE)\n",
    "with evaluating(f1):\n",
    "    Y1 = sample_langevin_mu_f(lambda x: f1(x), X, Y1_init, CONFIG)\n",
    "\n",
    "x = X.cpu()\n",
    "egbary_samples = Y1.cpu()\n",
    "eps = torch.tensor(CONFIG.EPS)\n",
    "\n",
    "predict = torch.sqrt(0.5*0.5*eps)*torch.randn_like(x) + 0.5*x + 0.5*egbary_samples\n",
    "predict = predict * constant_scale\n",
    "\n",
    "gt_predict = eval_data\n",
    "RES = ed(predict.cpu().numpy(), gt_predict.cpu().numpy())"
   ]
  },
  {
   "cell_type": "code",
   "execution_count": 21,
   "id": "ba4b0e55",
   "metadata": {},
   "outputs": [],
   "source": [
    "file = open(f'../EnergyGuidedBarycenters/data_sc/metrics.txt','a')\n",
    "file.write(f\"dim = {DIM}, setup = {SETUP}, rsi = {RSI}, res = {RES} \\n\")\n",
    "file.close()"
   ]
  },
  {
   "cell_type": "code",
   "execution_count": null,
   "id": "5d4805b3",
   "metadata": {},
   "outputs": [],
   "source": []
  },
  {
   "cell_type": "code",
   "execution_count": null,
   "id": "eb1c2192",
   "metadata": {},
   "outputs": [],
   "source": []
  }
 ],
 "metadata": {
  "celltoolbar": "Tags",
  "kernelspec": {
   "display_name": "Python 3",
   "language": "python",
   "name": "python3"
  },
  "language_info": {
   "codemirror_mode": {
    "name": "ipython",
    "version": 3
   },
   "file_extension": ".py",
   "mimetype": "text/x-python",
   "name": "python",
   "nbconvert_exporter": "python",
   "pygments_lexer": "ipython3",
   "version": "3.8.5"
  }
 },
 "nbformat": 4,
 "nbformat_minor": 5
}
